{
  "cells": [
    {
      "cell_type": "markdown",
      "metadata": {},
      "source": [
        "\n# Custom Simulator\n\nThis example shows how to use TorchSim to implement a simulator.\n\n\nFirst, we want to implement the simulation engine.\nParallelization and automatic differentiation are abstracted\naway from the user, which can focus on implementing single-voxel\nsimulation.\n    \n"
      ]
    },
    {
      "cell_type": "markdown",
      "metadata": {},
      "source": [
        "<div class='alert alert-info'>\n\n# Install libraries needed for Colab\n\nThe below installation commands are needed to be run only on Google Colab.\n</div>\n<div class=\"colab-button\">\n            <a href=\"https://colab.research.google.com/github/INFN-MRI/torchsim/blob/gh-pages/examples/generated/autoexamples/01-simple-simulator.ipynb\" target=\"_blank\">\n                <img src=\"https://colab.research.google.com/assets/colab-badge.svg\" \n                alt=\"Open In Colab\"/>\n            </a>\n        </div>\n        "
      ]
    },
    {
      "cell_type": "code",
      "execution_count": null,
      "metadata": {
        "collapsed": false
      },
      "outputs": [],
      "source": [
        "# Install libraries\n!pip install torchsim"
      ]
    },
    {
      "cell_type": "markdown",
      "metadata": {},
      "source": [
        "We begin with the necessary imports:\n\n\n"
      ]
    },
    {
      "cell_type": "code",
      "execution_count": null,
      "metadata": {
        "collapsed": false
      },
      "outputs": [],
      "source": [
        "import warnings\n\nwarnings.filterwarnings(\"ignore\")\n\nimport numpy as np\nimport torch\n\nfrom torchsim import base\nfrom torchsim import epg"
      ]
    },
    {
      "cell_type": "markdown",
      "metadata": {},
      "source": [
        "## Defining the model\n\nThe model can be derived by ``base.AbstractModel`` as:\n\n"
      ]
    },
    {
      "cell_type": "code",
      "execution_count": null,
      "metadata": {
        "collapsed": false
      },
      "outputs": [],
      "source": [
        "class SSFPMRFModel(base.AbstractModel):\n    \"\"\"Class to simulate inversion-prepared (variable flip angle) SSFP.\"\"\"\n\n    @base.autocast\n    def set_properties(self, T1, T2):\n        self.properties.T1 = T1\n        self.properties.T2 = T2\n\n    @base.autocast\n    def set_sequence(self, flip, TR):\n        self.sequence.flip = torch.pi * flip / 180.0\n        self.sequence.TR = TR * 1e-3  # ms -> s\n\n    @staticmethod\n    def _engine(T1, T2, flip, TR):\n        # Prepare relaxation parameters\n        R1, R2 = 1e3 / T1, 1e3 / T2\n\n        # Prepare EPG states matrix\n        states = epg.states_matrix(\n            device=R1.device,\n            nstates=10,\n        )\n\n        # Prepare relaxation operator for sequence loop\n        E1, rE1 = epg.longitudinal_relaxation_op(R1, TR)\n        E2 = epg.transverse_relaxation_op(R2, TR)\n\n        # Get number of shots\n        nshots = len(flip)\n\n        # Initialize signal\n        signal = []\n\n        # Apply inversion\n        states = epg.adiabatic_inversion(states)\n\n        # Scan loop\n        for p in range(nshots):\n            RF = epg.rf_pulse_op(flip[p])\n\n            # Apply RF pulse\n            states = epg.rf_pulse(states, RF)\n\n            # Record signal\n            signal.append(epg.get_signal(states))\n\n            # Evolve\n            states = epg.longitudinal_relaxation(states, E1, rE1)\n            states = epg.transverse_relaxation(states, E2)\n            states = epg.shift(states)\n\n        return torch.stack(signal)"
      ]
    },
    {
      "cell_type": "markdown",
      "metadata": {},
      "source": [
        "With this definition, the simulator can be used as follows.\n\n## Instantiating the simulator\nThe simulator is derived from base class.\nBase constructor accept the following parameters:\n\n1. ``diff``: this is either a string or a tuple of strings containing the name of the parameter we want to calculate the derivatives (e.g., ``\"T1\"`` or ``(\"T1\", \"T2\")``).\n   If not provided, simulator only computes the forward pass.\n\n2. ``chunk_size``: computation is vectorized in batches of size ``chunk_size``. The larger, the\n   faster the computation is, but at expense of increased memory usage. At the moment, it must\n   be tuned manually by the user. If not provided, attempt to process the whole batch.\n\n3. ``device``: computational device of choice. If not provided, it is inferred from inputs (more later).\n\n\n"
      ]
    },
    {
      "cell_type": "code",
      "execution_count": null,
      "metadata": {
        "collapsed": false
      },
      "outputs": [],
      "source": [
        "model = SSFPMRFModel(diff=(\"T1\", \"T2\"))  # we use the defaults here"
      ]
    },
    {
      "cell_type": "markdown",
      "metadata": {},
      "source": [
        "## Setting object properties\nThe ``set_properties`` method must contain all the object-dependent parameters (T1, T2, B1, ...), which are\nautomatically broadcasted.\n\n\nHere, we provide ``T1``, ``T2``, ``M0``. These can be either scalar or array-valued quantities (e.g., for a whole parameter map).\nInput will be automatically converted to ``torch.Tensor`` and moved to the same device as the first argument (``T1``) thanks to ``base.autocast`` decorator.\n\nIn this method, the arguments must be assigned to the ``properties`` attribute (``self.properties``).\n\n\n"
      ]
    },
    {
      "cell_type": "code",
      "execution_count": null,
      "metadata": {
        "collapsed": false
      },
      "outputs": [],
      "source": [
        "model.set_properties(T1=1000.0, T2=100.0)"
      ]
    },
    {
      "cell_type": "markdown",
      "metadata": {},
      "source": [
        "## Setting sequence properties\nThe ``set_sequence`` method must contain all the sequence-depenent parameters, which are\nshared amongst all the simulated atoms.\n\nHere, we provide the flip angle schedule and the sequence TR.\nInput will be automatically converted to ``torch.Tensor`` and moved to the same device as the first argument (``flip``) thanks to ``base.autocast`` decorator.\n\nOther preprocessing such as unit conversions (e.g., ``deg to rad``) must be performed manually by the user in this function.\nAfter preprocessing, the arguments must be assigned to the ``sequence`` attribute (``self.sequence``).\n\n\n"
      ]
    },
    {
      "cell_type": "code",
      "execution_count": null,
      "metadata": {
        "collapsed": false
      },
      "outputs": [],
      "source": [
        "flip = np.concatenate(\n    (np.linspace(5.0, 60.0, 350), np.linspace(60.0, 1.0, 350), 1.0 * np.ones(180))\n)\nmodel.set_sequence(flip=flip, TR=10.0)"
      ]
    },
    {
      "cell_type": "markdown",
      "metadata": {},
      "source": [
        "## Notes on simulation engine\n\nAfter defining ``set_properties`` and ``set_sequence`` The user should implement the actual simulator\nby overriding the ``_engine`` method. This must be decorated as a ``static_method`` and contain each and exclusively the\nparameters defined in ``set_properties`` and ``set_sequence`` signature.\n\nFor consistent derivative scaling, all unit conversions must be performed in the body of this function.\n\nThe user should implement the simulation as it were acting on a single atom (e.g., a single combination of ``properties`` parameters).\nThe base class will ensure that all ``properties`` are broadcasted and computation vectorized over batches of size ``chunk_size``.\n\nBy contrast, ``sequence`` parameters will not be broadcasted, and are shared amongst all the atoms.\n\n## Running the simulation\nAfter object instantiation and definition of object and sequence parameters, simulation can be executed by\nusing the magic ``__call__`` method:\n\n\n"
      ]
    },
    {
      "cell_type": "code",
      "execution_count": null,
      "metadata": {
        "collapsed": false
      },
      "outputs": [],
      "source": [
        "signal, derivatives = model()"
      ]
    },
    {
      "cell_type": "markdown",
      "metadata": {},
      "source": [
        "When using this method, all the parameters are automatically moved to the device specified\nat object construction or, if this is not provided, to the same device as the first\nargument of ``set_properties`` method (here, ``T1``).\n\n## Advanced Usage\n\nAs an alternative, forward and jacobian callables can be extracted, e.g., to be used with external\npackages for parameter fitting, model based reconstruction or sequence optimization.\n\nThis can be achieved as\n\n\n"
      ]
    },
    {
      "cell_type": "code",
      "execution_count": null,
      "metadata": {
        "collapsed": false
      },
      "outputs": [],
      "source": [
        "forw_fn = model.forward(compile=False)  # compile=True is still experimental\njac_fn = model.jacobian(compile=False)"
      ]
    },
    {
      "cell_type": "markdown",
      "metadata": {},
      "source": [
        "These functions capture all ``sequence`` parameters, and have the same signature\nas ``set_properties``, i.e., they accept object parameters as inputs:\n\n\n"
      ]
    },
    {
      "cell_type": "code",
      "execution_count": null,
      "metadata": {
        "collapsed": false
      },
      "outputs": [],
      "source": [
        "signal = forw_fn(T1=1000.0, T2=100.0)\nderivatives = jac_fn(T1=1000.0, T2=100.0)"
      ]
    },
    {
      "cell_type": "markdown",
      "metadata": {},
      "source": [
        "Here, we use autodifferentiation to compute the jacobian function.\nAs an alternative, user can specify a manual jacobain function by overriding\nthe ``_jacobian_engine`` method. Similarly to the ``_engine`` method,\nthis must be a ``staticmethod`` and contain each and exclusively the\nparameters defined in ``set_properties`` and ``set_sequence`` signature.\n\n## Functional Wrappers\nWe can wrap the Model class in a function, for user convenience:\n\n"
      ]
    },
    {
      "cell_type": "code",
      "execution_count": null,
      "metadata": {
        "collapsed": false
      },
      "outputs": [],
      "source": [
        "def mrf_sim(flip, TR, T1, T2, diff=None, device=\"cpu\"):\n    \"\"\"\n    Simulate an inversion-prepared SSFP sequence with variable flip angles.\n\n    Parameters\n    ----------\n    flip : array-like\n        Flip angle in [deg] of shape (npulses,).\n    TR: float\n        Repetition time in [ms].\n    T1 : float | array-like\n        Longitudinal relaxation time in [ms].\n    T2 : float | array-like\n        Transverse relaxation time in [ms].\n    diff : str | tuple[str], optional:\n        Arguments to get the signal derivative with respect to.\n        Defaults to None (no differentation).\n    device : str, optional Computational device.\n        Defaults to \"cpu\".\n\n    Returns\n    -------\n    signal : torch.Tensor\n        Simulated signal\n    jac : torch.Tensor\n        Partial derivative(s) of simulated signal. Returned\n        only if ``diff`` is not None.\n\n    \"\"\"\n    # initialize simulator\n    model = SSFPMRFModel(diff=diff, device=device)\n    model.set_properties(T1, T2)\n    model.set_sequence(flip, TR)\n    return model()"
      ]
    },
    {
      "cell_type": "markdown",
      "metadata": {},
      "source": [
        "That's it!\nThe simulator can be used on single voxel, to quickly predict signal evolution:\n\n\n"
      ]
    },
    {
      "cell_type": "code",
      "execution_count": null,
      "metadata": {
        "collapsed": false
      },
      "outputs": [],
      "source": [
        "import numpy as np\nimport matplotlib.pyplot as plt\n\nsig = mrf_sim(flip, 10.0, 1000.0, 100.0)\n\nplt.plot(abs(sig))\nplt.xlabel(\"TR index\")\nplt.ylabel(\"signal magnitude [a.u.]\")"
      ]
    },
    {
      "cell_type": "markdown",
      "metadata": {},
      "source": [
        "As mentioned, parallelization with automatic broadcasting is supported...\n\n\n"
      ]
    },
    {
      "cell_type": "code",
      "execution_count": null,
      "metadata": {
        "collapsed": false
      },
      "outputs": [],
      "source": [
        "sig = mrf_sim(flip, 10.0, [1000.0, 500.0], 100.0)\n\nplt.plot(abs(sig.T))\nplt.xlabel(\"TR index\")\nplt.ylabel(\"signal magnitude [a.u.]\")"
      ]
    },
    {
      "cell_type": "markdown",
      "metadata": {},
      "source": [
        "...as well as automatic differentiation controlled by ``diff`` argument:\n\n\n"
      ]
    },
    {
      "cell_type": "code",
      "execution_count": null,
      "metadata": {
        "collapsed": false
      },
      "outputs": [],
      "source": [
        "sig, jac = mrf_sim(flip, 10.0, 1000.0, 100.0, diff=(\"T1\", \"T2\"))\n\nplt.plot(abs(jac.T))\nplt.xlabel(\"TR index\")\nplt.ylabel(\"signal jacobian [a.u.]\")"
      ]
    }
  ],
  "metadata": {
    "kernelspec": {
      "display_name": "Python 3",
      "language": "python",
      "name": "python3"
    },
    "language_info": {
      "codemirror_mode": {
        "name": "ipython",
        "version": 3
      },
      "file_extension": ".py",
      "mimetype": "text/x-python",
      "name": "python",
      "nbconvert_exporter": "python",
      "pygments_lexer": "ipython3",
      "version": "3.10.15"
    }
  },
  "nbformat": 4,
  "nbformat_minor": 0
}