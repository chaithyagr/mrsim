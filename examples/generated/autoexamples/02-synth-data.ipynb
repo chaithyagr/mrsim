{
  "cells": [
    {
      "cell_type": "markdown",
      "metadata": {},
      "source": [
        "\n# Synthetic Data Generation\n\nThis example shows how to use TorchSim to generate synthetic data.\n\nWe will use torchio and sigpy to get realistic ground truth maps and\ncoil sensitivities. These can be installed as:\n    \n``pip install torchio``\n``pip install sigpy``\n"
      ]
    },
    {
      "cell_type": "markdown",
      "metadata": {},
      "source": [
        "<div class='alert alert-info'>\n\n# Install libraries needed for Colab\n\nThe below installation commands are needed to be run only on Google Colab.\n</div>\n<div class=\"colab-button\">\n            <a href=\"https://colab.research.google.com/github/INFN-MRI/torchsim/blob/gh-pages/examples/generated/autoexamples/02-synth-data.ipynb\" target=\"_blank\">\n                <img src=\"https://colab.research.google.com/assets/colab-badge.svg\" \n                alt=\"Open In Colab\"/>\n            </a>\n        </div>\n        "
      ]
    },
    {
      "cell_type": "code",
      "execution_count": null,
      "metadata": {
        "collapsed": false
      },
      "outputs": [],
      "source": [
        "# Install libraries\n!pip install torchsim torchio sigpy"
      ]
    },
    {
      "cell_type": "markdown",
      "metadata": {},
      "source": [
        "We will use realistic maps from the IXI dataset,\ndownloaded using ``torchio``:\n\n\n"
      ]
    },
    {
      "cell_type": "code",
      "execution_count": null,
      "metadata": {
        "collapsed": false
      },
      "outputs": [],
      "source": [
        "import warnings\n\nwarnings.filterwarnings(\"ignore\")\n\nimport os\nimport torchio as tio\n\npath = os.path.realpath(\"data\")\nixi_dataset = tio.datasets.IXI(\n    path,\n    modalities=(\"PD\", \"T2\"),\n    download=False,\n)\n\n# get subject 0\nsample_subject = ixi_dataset[0]"
      ]
    },
    {
      "cell_type": "markdown",
      "metadata": {},
      "source": [
        "We will now extract an example slice\nand compute M0 and T2 maps to be used\nas simulation inputs.\n\n\n"
      ]
    },
    {
      "cell_type": "code",
      "execution_count": null,
      "metadata": {
        "collapsed": false
      },
      "outputs": [],
      "source": [
        "import numpy as np\n\nM0 = sample_subject.PD.numpy().astype(np.float32).squeeze()[:, :, 60].T\nT2w = sample_subject.T2.numpy().astype(np.float32).squeeze()[:, :, 60].T"
      ]
    },
    {
      "cell_type": "markdown",
      "metadata": {},
      "source": [
        "Compute T2 map:\n\n"
      ]
    },
    {
      "cell_type": "code",
      "execution_count": null,
      "metadata": {
        "collapsed": false
      },
      "outputs": [],
      "source": [
        "sa = np.sin(np.deg2rad(8.0))\nta = np.tan(np.deg2rad(8.0))\n\nT2 = -92.0 / np.log(T2w / M0)\nT2 = np.nan_to_num(T2, neginf=0.0, posinf=0.0)\nT2 = np.clip(T2, a_min=0.0, a_max=np.inf)\n\nM0 = np.flip(M0)\nT2 = np.flip(T2)"
      ]
    },
    {
      "cell_type": "markdown",
      "metadata": {},
      "source": [
        "Now, we can create our simulation function\n\nLet's use torchsim fse simulator\n\n\n"
      ]
    },
    {
      "cell_type": "code",
      "execution_count": null,
      "metadata": {
        "collapsed": false
      },
      "outputs": [],
      "source": [
        "import torchsim\n\n\ndef simulate(T2, flip, ESP, device=\"cpu\"):\n    # get ishape\n    ishape = T2.shape\n    output = torchsim.fse_sim(\n        flip=flip, ESP=ESP, T1=1000.0, T2=T2.flatten(), device=device\n    )\n\n    return output.T.reshape(-1, *ishape).numpy(force=True)"
      ]
    },
    {
      "cell_type": "markdown",
      "metadata": {},
      "source": [
        "Assume a constant refocusing train\n\n\n"
      ]
    },
    {
      "cell_type": "code",
      "execution_count": null,
      "metadata": {
        "collapsed": false
      },
      "outputs": [],
      "source": [
        "flip = 180.0 * np.ones(32, dtype=np.float32)\nESP = 5.0\ndevice = \"cpu\"\n\n# simulate acquisition\necho_series = M0 * simulate(T2, flip, ESP, device=device)\n\n# display\nimg = np.concatenate((echo_series[0], echo_series[16], echo_series[-1]), axis=1)\n\nimport matplotlib.pyplot as plt\n\nplt.imshow(abs(img), cmap=\"gray\"), plt.axis(\"image\"), plt.axis(\"off\")"
      ]
    },
    {
      "cell_type": "markdown",
      "metadata": {},
      "source": [
        "Now, we want to add coil sensitivities. We will use Sigpy:\n\n\n"
      ]
    },
    {
      "cell_type": "code",
      "execution_count": null,
      "metadata": {
        "collapsed": false
      },
      "outputs": [],
      "source": [
        "import sigpy.mri as smri\n\nsmaps = smri.birdcage_maps((8, *echo_series.shape[1:]))"
      ]
    },
    {
      "cell_type": "markdown",
      "metadata": {},
      "source": [
        "We can simulate effects of coil by simple multiplication:\n\n\n"
      ]
    },
    {
      "cell_type": "code",
      "execution_count": null,
      "metadata": {
        "collapsed": false
      },
      "outputs": [],
      "source": [
        "echo_series = smaps[:, None, ...] * echo_series\nprint(echo_series.shape)"
      ]
    },
    {
      "cell_type": "markdown",
      "metadata": {},
      "source": [
        "Now, we want to simulate k-space encoding. We will use a simple Poisson Cartesian encoding\nfrom Sigpy.\n\n\n"
      ]
    },
    {
      "cell_type": "code",
      "execution_count": null,
      "metadata": {
        "collapsed": false
      },
      "outputs": [],
      "source": [
        "import sigpy as sp\n\nmask = np.stack([smri.poisson(T2.shape, 32) for n in range(32)], axis=0)\nksp = mask * sp.fft(echo_series, axes=range(-2, 0))\n\nplt.imshow(abs(ksp[0, 0]), vmax=50), plt.axis(\"image\"), plt.axis(\"off\"), plt.colorbar()"
      ]
    },
    {
      "cell_type": "markdown",
      "metadata": {},
      "source": [
        "Potentially, we could use Non-Cartesian sampling and include non-idealities\nsuch as B0 accrual and T2* decay during readout using ``mri-nufft``.\n\nNow, we can wrap it up:\n\n"
      ]
    },
    {
      "cell_type": "code",
      "execution_count": null,
      "metadata": {
        "collapsed": false
      },
      "outputs": [],
      "source": [
        "def generate_synth_data(M0, T2, flip, ESP, phases=None, ncoils=8, device=\"cpu\"):\n    echo_series = M0 * simulate(T2, flip, ESP, device=device)\n    smaps = smri.birdcage_maps((ncoils, *echo_series.shape[1:]))\n    echo_series = smaps[:, None, ...] * echo_series\n    mask = np.stack(\n        [smri.poisson(T2.shape, len(flip)) for n in range(len(flip))], axis=0\n    )\n    return mask * sp.fft(echo_series, axes=range(-2, 0))"
      ]
    },
    {
      "cell_type": "markdown",
      "metadata": {},
      "source": [
        "Reconstruction shows the effect of undersampling:\n\n\n"
      ]
    },
    {
      "cell_type": "code",
      "execution_count": null,
      "metadata": {
        "collapsed": false
      },
      "outputs": [],
      "source": [
        "ksp = generate_synth_data(M0, T2, flip, ESP, device=device)\nrecon = sp.ifft(ksp, axes=range(-2, 0))\nrecon = (recon**2).sum(axis=0) ** 0.5\nimg = np.concatenate((recon[0], recon[16], recon[-1]), axis=1)\nplt.imshow(abs(img), cmap=\"gray\"), plt.axis(\"image\"), plt.axis(\"off\")"
      ]
    },
    {
      "cell_type": "markdown",
      "metadata": {},
      "source": [
        "This can be combined with data augmentation in torchio to generate synthetic\ndatasets, such as in Synth-MOLED.\n\n"
      ]
    }
  ],
  "metadata": {
    "kernelspec": {
      "display_name": "Python 3",
      "language": "python",
      "name": "python3"
    },
    "language_info": {
      "codemirror_mode": {
        "name": "ipython",
        "version": 3
      },
      "file_extension": ".py",
      "mimetype": "text/x-python",
      "name": "python",
      "nbconvert_exporter": "python",
      "pygments_lexer": "ipython3",
      "version": "3.10.15"
    }
  },
  "nbformat": 4,
  "nbformat_minor": 0
}